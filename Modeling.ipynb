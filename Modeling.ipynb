{
  "nbformat": 4,
  "nbformat_minor": 0,
  "metadata": {
    "colab": {
      "provenance": [],
      "collapsed_sections": [],
      "machine_shape": "hm"
    },
    "kernelspec": {
      "name": "python3",
      "display_name": "Python 3"
    },
    "language_info": {
      "name": "python"
    },
    "accelerator": "GPU"
  },
  "cells": [
    {
      "cell_type": "markdown",
      "source": [
        "#Modeling - ResNet50"
      ],
      "metadata": {
        "id": "vokOOyGwMJt5"
      }
    },
    {
      "cell_type": "markdown",
      "source": [
        "## 병합한 pickle파일 가져오기"
      ],
      "metadata": {
        "id": "rWTv9se_yP19"
      }
    },
    {
      "cell_type": "code",
      "source": [
        "import tensorflow as tf\n",
        "import numpy as np\n",
        "from tensorflow.keras.applications.resnet50 import ResNet50\n",
        "from tensorflow.keras import datasets, layers, models\n",
        "\n",
        "from tensorflow.keras.layers import Dense, Flatten, MaxPooling2D\n",
        "from tensorflow.keras import Input\n",
        "from tensorflow.keras.layers import Dropout, BatchNormalization\n",
        "\n",
        "import matplotlib.pyplot as plt\n",
        "from sklearn.model_selection import train_test_split\n",
        "import pickle\n",
        "from google.colab import drive\n",
        "drive.mount('/content/drive')"
      ],
      "metadata": {
        "id": "Ec6lMa0xJRiw"
      },
      "execution_count": 1,
      "outputs": []
    },
    {
      "cell_type": "code",
      "source": [
        "!cp /content/drive/MyDrive/KDT/offline/mini_project3-image/강아지품종예측\\(미니프로젝트\\)/데이터수집\\(크롤링\\)/*.pickle /content/drive/MyDrive/KDT/offline/mini_project3-image/github/"
      ],
      "metadata": {
        "id": "tPOx-MgbC6js"
      },
      "execution_count": 38,
      "outputs": []
    },
    {
      "cell_type": "code",
      "source": [
        "with open('/content/drive/MyDrive/KDT/offline/mini_project3-image/github/image.pickle','rb') as f:\n",
        "  data = pickle.load(f)\n",
        "with open('/content/drive/MyDrive/KDT/offline/mini_project3-image/github/label.pickle','rb') as f:\n",
        "  label = pickle.load(f)"
      ],
      "metadata": {
        "id": "QAYPH-xMJ3TC"
      },
      "execution_count": 40,
      "outputs": []
    },
    {
      "cell_type": "code",
      "source": [
        "data"
      ],
      "metadata": {
        "colab": {
          "base_uri": "https://localhost:8080/"
        },
        "id": "lWAtkRTQ7Hq7",
        "outputId": "978123e9-3b3d-4f54-e0e2-149978d82da5"
      },
      "execution_count": 41,
      "outputs": [
        {
          "output_type": "execute_result",
          "data": {
            "text/plain": [
              "array([[[[230.00604 , 233.00604 , 238.00604 ],\n",
              "         [228.31111 , 231.31111 , 236.31111 ],\n",
              "         [228.15555 , 231.15555 , 236.15555 ],\n",
              "         ...,\n",
              "         [221.      , 229.      , 236.      ],\n",
              "         [221.      , 229.      , 236.      ],\n",
              "         [219.      , 229.      , 236.      ]],\n",
              "\n",
              "        [[227.76666 , 230.76666 , 235.76666 ],\n",
              "         [229.35445 , 232.35445 , 237.35445 ],\n",
              "         [230.76666 , 233.76666 , 238.76666 ],\n",
              "         ...,\n",
              "         [221.      , 229.      , 236.      ],\n",
              "         [221.      , 229.      , 236.      ],\n",
              "         [219.      , 229.      , 236.      ]],\n",
              "\n",
              "        [[228.77777 , 231.77777 , 236.77777 ],\n",
              "         [228.38889 , 231.38889 , 236.38889 ],\n",
              "         [229.      , 232.      , 237.      ],\n",
              "         ...,\n",
              "         [221.      , 229.      , 236.      ],\n",
              "         [221.      , 229.      , 236.      ],\n",
              "         [219.      , 229.      , 236.      ]],\n",
              "\n",
              "        ...,\n",
              "\n",
              "        [[ 32.835705,  32.835705,  32.835705],\n",
              "         [ 39.853752,  39.853752,  39.853752],\n",
              "         [ 39.41374 ,  39.41374 ,  39.41374 ],\n",
              "         ...,\n",
              "         [ 34.240543,  34.240543,  34.240543],\n",
              "         [ 36.974022,  36.974022,  36.974022],\n",
              "         [ 36.65862 ,  36.65862 ,  36.65862 ]],\n",
              "\n",
              "        [[ 44.43221 ,  44.43221 ,  44.43221 ],\n",
              "         [ 41.594456,  41.594456,  41.594456],\n",
              "         [ 42.361115,  42.361115,  42.361115],\n",
              "         ...,\n",
              "         [ 33.40003 ,  33.40003 ,  33.40003 ],\n",
              "         [ 36.57557 ,  36.57557 ,  36.57557 ],\n",
              "         [ 35.491837,  35.491837,  35.491837]],\n",
              "\n",
              "        [[ 43.598114,  43.598114,  43.598114],\n",
              "         [ 42.258476,  42.258476,  42.258476],\n",
              "         [ 37.03025 ,  37.03025 ,  37.03025 ],\n",
              "         ...,\n",
              "         [ 37.762352,  37.762352,  37.762352],\n",
              "         [ 41.119278,  41.119278,  41.119278],\n",
              "         [ 36.299053,  36.299053,  36.299053]]],\n",
              "\n",
              "\n",
              "       [[[205.92223 , 190.92223 , 222.92223 ],\n",
              "         [204.8626  , 189.09593 , 222.62926 ],\n",
              "         [205.89198 , 189.89198 , 223.89198 ],\n",
              "         ...,\n",
              "         [230.04753 , 218.04753 , 240.04753 ],\n",
              "         [227.98186 , 215.98186 , 237.98186 ],\n",
              "         [228.      , 216.      , 238.      ]],\n",
              "\n",
              "        [[205.94037 , 190.1737  , 223.70705 ],\n",
              "         [206.      , 190.05444 , 223.94556 ],\n",
              "         [206.      , 190.      , 224.      ],\n",
              "         ...,\n",
              "         [229.      , 217.      , 239.      ],\n",
              "         [229.      , 217.      , 239.      ],\n",
              "         [227.92221 , 215.92221 , 237.92221 ]],\n",
              "\n",
              "        [[205.31111 , 189.31111 , 223.31111 ],\n",
              "         [206.38889 , 190.38889 , 224.38889 ],\n",
              "         [206.38889 , 190.38889 , 224.38889 ],\n",
              "         ...,\n",
              "         [229.37344 , 217.37344 , 239.37344 ],\n",
              "         [227.38889 , 215.38889 , 237.38889 ],\n",
              "         [228.64136 , 216.64136 , 238.64136 ]],\n",
              "\n",
              "        ...,\n",
              "\n",
              "        [[187.35867 , 173.35867 , 221.35867 ],\n",
              "         [187.38892 , 173.38892 , 221.38892 ],\n",
              "         [188.      , 174.      , 222.      ],\n",
              "         ...,\n",
              "         [206.84874 , 195.84874 , 235.84874 ],\n",
              "         [205.76666 , 194.76666 , 234.76666 ],\n",
              "         [205.04753 , 194.04753 , 234.04753 ]],\n",
              "\n",
              "        [[187.23334 , 173.23334 , 221.23334 ],\n",
              "         [187.      , 173.      , 221.      ],\n",
              "         [186.      , 172.      , 220.      ],\n",
              "         ...,\n",
              "         [206.      , 195.      , 235.      ],\n",
              "         [206.      , 195.      , 235.      ],\n",
              "         [204.98184 , 193.98184 , 233.98184 ]],\n",
              "\n",
              "        [[187.76663 , 173.76663 , 221.76663 ],\n",
              "         [187.90405 , 173.90405 , 221.90405 ],\n",
              "         [188.      , 174.      , 222.      ],\n",
              "         ...,\n",
              "         [205.      , 194.      , 234.      ],\n",
              "         [206.      , 195.      , 235.      ],\n",
              "         [203.99394 , 192.99394 , 232.99394 ]]],\n",
              "\n",
              "\n",
              "       [[[190.      , 196.      , 195.      ],\n",
              "         [190.66667 , 196.66667 , 195.66667 ],\n",
              "         [191.      , 197.      , 196.      ],\n",
              "         ...,\n",
              "         [189.06607 , 195.06607 , 194.06607 ],\n",
              "         [189.      , 195.      , 194.      ],\n",
              "         [189.40555 , 195.40555 , 194.40555 ]],\n",
              "\n",
              "        [[190.      , 196.      , 195.      ],\n",
              "         [191.      , 197.      , 196.      ],\n",
              "         [191.      , 197.      , 196.      ],\n",
              "         ...,\n",
              "         [190.      , 196.      , 195.      ],\n",
              "         [188.21666 , 194.21666 , 193.21666 ],\n",
              "         [189.21666 , 195.21666 , 194.21666 ]],\n",
              "\n",
              "        [[190.      , 196.      , 195.      ],\n",
              "         [191.      , 197.      , 196.      ],\n",
              "         [191.1358  , 197.1358  , 196.1358  ],\n",
              "         ...,\n",
              "         [189.11115 , 195.11115 , 194.11115 ],\n",
              "         [189.32405 , 195.32405 , 194.32405 ],\n",
              "         [188.      , 194.      , 193.      ]],\n",
              "\n",
              "        ...,\n",
              "\n",
              "        [[239.82416 , 243.82416 , 244.82416 ],\n",
              "         [243.33333 , 247.33333 , 248.33333 ],\n",
              "         [242.8394  , 246.8394  , 247.8394  ],\n",
              "         ...,\n",
              "         [242.03093 , 246.03093 , 247.03093 ],\n",
              "         [244.27765 , 248.27765 , 249.27765 ],\n",
              "         [243.07732 , 247.07732 , 248.07732 ]],\n",
              "\n",
              "        [[244.33888 , 248.33888 , 249.33888 ],\n",
              "         [241.3167  , 245.3167  , 246.3167  ],\n",
              "         [244.10556 , 248.10556 , 249.10556 ],\n",
              "         ...,\n",
              "         [243.47958 , 247.47958 , 248.47958 ],\n",
              "         [243.11664 , 247.11664 , 248.11664 ],\n",
              "         [244.56665 , 248.56665 , 249.56665 ]],\n",
              "\n",
              "        [[243.72961 , 247.72961 , 248.72961 ],\n",
              "         [241.23534 , 245.23534 , 246.23534 ],\n",
              "         [248.12279 , 252.12279 , 253.12279 ],\n",
              "         ...,\n",
              "         [242.18884 , 246.59442 , 247.59442 ],\n",
              "         [240.86482 , 244.86482 , 245.86482 ],\n",
              "         [242.53767 , 246.53767 , 247.53767 ]]],\n",
              "\n",
              "\n",
              "       ...,\n",
              "\n",
              "\n",
              "       [[[173.66667 , 174.11111 , 186.55556 ],\n",
              "         [ 72.      ,  73.      , 101.      ],\n",
              "         [ 72.      ,  73.      , 101.      ],\n",
              "         ...,\n",
              "         [ 52.796295,  63.796295,  61.796295],\n",
              "         [ 56.33331 ,  67.333305,  65.333305],\n",
              "         [167.81215 , 172.70119 , 171.81227 ]],\n",
              "\n",
              "        [[174.55556 , 175.      , 187.44444 ],\n",
              "         [ 74.      ,  75.      , 103.      ],\n",
              "         [ 74.      ,  75.      , 103.      ],\n",
              "         ...,\n",
              "         [ 90.166565, 101.166565,  99.166565],\n",
              "         [115.666565, 126.666565, 124.666565],\n",
              "         [195.66486 , 200.5539  , 199.66498 ]],\n",
              "\n",
              "        [[173.74075 , 174.1852  , 186.62964 ],\n",
              "         [ 72.166664,  73.166664, 101.166664],\n",
              "         [ 72.166664,  73.166664, 101.166664],\n",
              "         ...,\n",
              "         [132.7963  , 143.7963  , 141.7963  ],\n",
              "         [132.      , 143.      , 141.      ],\n",
              "         [200.5539  , 205.44293 , 204.55402 ]],\n",
              "\n",
              "        ...,\n",
              "\n",
              "        [[182.85167 , 182.85167 , 182.85167 ],\n",
              "         [101.7218  , 101.7218  , 101.7218  ],\n",
              "         [ 82.01857 ,  82.01857 ,  82.01857 ],\n",
              "         ...,\n",
              "         [180.      , 180.      , 180.      ],\n",
              "         [180.      , 180.      , 180.      ],\n",
              "         [221.66565 , 221.66565 , 221.66565 ]],\n",
              "\n",
              "        [[188.33334 , 188.33334 , 188.33334 ],\n",
              "         [111.33333 , 111.33333 , 111.33333 ],\n",
              "         [111.166664, 111.166664, 111.166664],\n",
              "         ...,\n",
              "         [180.      , 180.      , 180.      ],\n",
              "         [180.      , 180.      , 180.      ],\n",
              "         [221.66565 , 221.66565 , 221.66565 ]],\n",
              "\n",
              "        [[191.74072 , 191.74072 , 191.74072 ],\n",
              "         [114.27777 , 114.27777 , 114.27777 ],\n",
              "         [117.7779  , 117.7779  , 117.7779  ],\n",
              "         ...,\n",
              "         [180.      , 180.      , 180.      ],\n",
              "         [180.      , 180.      , 180.      ],\n",
              "         [221.66565 , 221.66565 , 221.66565 ]]],\n",
              "\n",
              "\n",
              "       [[[208.      , 207.      , 203.      ],\n",
              "         [208.      , 207.      , 203.      ],\n",
              "         [208.      , 207.      , 203.      ],\n",
              "         ...,\n",
              "         [230.      , 231.      , 229.      ],\n",
              "         [230.      , 231.      , 229.      ],\n",
              "         [230.      , 231.      , 229.      ]],\n",
              "\n",
              "        [[208.      , 207.      , 203.      ],\n",
              "         [208.      , 207.      , 203.      ],\n",
              "         [208.      , 207.      , 203.      ],\n",
              "         ...,\n",
              "         [230.      , 231.      , 229.      ],\n",
              "         [230.      , 231.      , 229.      ],\n",
              "         [230.      , 231.      , 229.      ]],\n",
              "\n",
              "        [[208.      , 207.      , 203.      ],\n",
              "         [208.      , 207.      , 203.      ],\n",
              "         [208.      , 207.      , 203.      ],\n",
              "         ...,\n",
              "         [230.      , 231.      , 229.      ],\n",
              "         [229.08333 , 230.08333 , 228.08333 ],\n",
              "         [229.08333 , 230.08333 , 228.08333 ]],\n",
              "\n",
              "        ...,\n",
              "\n",
              "        [[128.13895 , 128.13895 , 145.12044 ],\n",
              "         [167.47232 , 165.1112  , 185.86122 ],\n",
              "         [194.86115 , 187.63892 , 215.5278  ],\n",
              "         ...,\n",
              "         [223.19438 , 208.19438 , 239.19438 ],\n",
              "         [219.22218 , 204.22218 , 236.22218 ],\n",
              "         [221.05556 , 206.05556 , 238.05556 ]],\n",
              "\n",
              "        [[122.63335 , 122.63335 , 138.63335 ],\n",
              "         [143.21674 , 140.88339 , 161.55006 ],\n",
              "         [185.64447 , 179.20003 , 205.31114 ],\n",
              "         ...,\n",
              "         [219.9611  , 204.9611  , 235.9611  ],\n",
              "         [221.76666 , 206.76666 , 238.76666 ],\n",
              "         [220.76674 , 205.76674 , 237.76674 ]],\n",
              "\n",
              "        [[120.759254, 119.759254, 135.75925 ],\n",
              "         [129.8     , 127.466675, 148.13335 ],\n",
              "         [164.75928 , 160.53705 , 186.42593 ],\n",
              "         ...,\n",
              "         [218.03517 , 203.03517 , 234.03517 ],\n",
              "         [223.22772 , 208.22772 , 240.22772 ],\n",
              "         [217.94809 , 202.94809 , 234.94809 ]]],\n",
              "\n",
              "\n",
              "       [[[252.16666 , 252.16666 , 252.16666 ],\n",
              "         [254.15741 , 254.15741 , 254.15741 ],\n",
              "         [253.46915 , 253.46915 , 253.46915 ],\n",
              "         ...,\n",
              "         [254.96913 , 254.71603 , 253.71603 ],\n",
              "         [254.      , 254.      , 254.      ],\n",
              "         [254.      , 254.      , 254.      ]],\n",
              "\n",
              "        [[253.98148 , 253.98148 , 253.98148 ],\n",
              "         [250.44444 , 250.44444 , 250.44444 ],\n",
              "         [253.88889 , 253.88889 , 253.88889 ],\n",
              "         ...,\n",
              "         [254.5463  , 254.28703 , 253.70369 ],\n",
              "         [254.41667 , 254.41667 , 254.41667 ],\n",
              "         [254.41667 , 254.41667 , 254.41667 ]],\n",
              "\n",
              "        [[253.41667 , 253.41667 , 253.41667 ],\n",
              "         [253.37038 , 253.37038 , 253.37038 ],\n",
              "         [254.18518 , 254.18518 , 254.18518 ],\n",
              "         ...,\n",
              "         [254.76234 , 254.76234 , 254.76234 ],\n",
              "         [255.      , 255.      , 255.      ],\n",
              "         [255.      , 255.      , 255.      ]],\n",
              "\n",
              "        ...,\n",
              "\n",
              "        [[253.88889 , 253.88889 , 253.88889 ],\n",
              "         [254.89815 , 254.89815 , 254.89815 ],\n",
              "         [253.61111 , 253.61111 , 253.61111 ],\n",
              "         ...,\n",
              "         [253.58951 , 253.58951 , 253.58951 ],\n",
              "         [255.      , 255.      , 255.      ],\n",
              "         [255.      , 255.      , 255.      ]],\n",
              "\n",
              "        [[254.53703 , 254.53703 , 254.53703 ],\n",
              "         [254.86111 , 254.86111 , 254.86111 ],\n",
              "         [253.84258 , 253.84258 , 253.84258 ],\n",
              "         ...,\n",
              "         [252.83333 , 252.83333 , 252.83333 ],\n",
              "         [255.      , 255.      , 255.      ],\n",
              "         [255.      , 255.      , 255.      ]],\n",
              "\n",
              "        [[255.      , 255.      , 255.      ],\n",
              "         [254.42592 , 254.42592 , 254.42592 ],\n",
              "         [255.      , 255.      , 255.      ],\n",
              "         ...,\n",
              "         [254.22223 , 254.22223 , 254.22223 ],\n",
              "         [255.      , 255.      , 255.      ],\n",
              "         [255.      , 255.      , 255.      ]]]], dtype=float32)"
            ]
          },
          "metadata": {},
          "execution_count": 41
        }
      ]
    },
    {
      "cell_type": "code",
      "source": [
        "label"
      ],
      "metadata": {
        "colab": {
          "base_uri": "https://localhost:8080/"
        },
        "id": "Bo7eC9Dr2Tnt",
        "outputId": "4c33e3b5-64ae-4b6b-968c-85df73d96e2a"
      },
      "execution_count": 42,
      "outputs": [
        {
          "output_type": "execute_result",
          "data": {
            "text/plain": [
              "array(['0', '0', '0', ..., '13', '13', '13'], dtype='<U2')"
            ]
          },
          "metadata": {},
          "execution_count": 42
        }
      ]
    },
    {
      "cell_type": "code",
      "source": [
        "np.unique(label)"
      ],
      "metadata": {
        "colab": {
          "base_uri": "https://localhost:8080/"
        },
        "id": "N4gE76d8DfpF",
        "outputId": "730bd257-d7e2-4e18-a787-96ba188d9557"
      },
      "execution_count": 47,
      "outputs": [
        {
          "output_type": "execute_result",
          "data": {
            "text/plain": [
              "array(['0', '1', '10', '11', '12', '13', '2', '3', '4', '5', '6', '7',\n",
              "       '8', '9'], dtype='<U2')"
            ]
          },
          "metadata": {},
          "execution_count": 47
        }
      ]
    },
    {
      "cell_type": "code",
      "source": [
        "# label -= 1\n",
        "# label"
      ],
      "metadata": {
        "id": "vkBxOpeXO8kU"
      },
      "execution_count": null,
      "outputs": []
    },
    {
      "cell_type": "code",
      "source": [
        "data.shape,label.shape"
      ],
      "metadata": {
        "colab": {
          "base_uri": "https://localhost:8080/"
        },
        "id": "AqleyF3_z_b6",
        "outputId": "67bde276-9ba7-4234-aee5-7b2adadaf278"
      },
      "execution_count": 48,
      "outputs": [
        {
          "output_type": "execute_result",
          "data": {
            "text/plain": [
              "((7500, 180, 180, 3), (7500,))"
            ]
          },
          "metadata": {},
          "execution_count": 48
        }
      ]
    },
    {
      "cell_type": "markdown",
      "source": [
        "## train, test set 분리"
      ],
      "metadata": {
        "id": "TPNdZRMY0HHE"
      }
    },
    {
      "cell_type": "code",
      "execution_count": 49,
      "metadata": {
        "id": "pXqS0NBJJPcv"
      },
      "outputs": [],
      "source": [
        "train_data, test_data, train_label, test_label = train_test_split(data, label, test_size = 0.2, stratify=label, random_state=50)"
      ]
    },
    {
      "cell_type": "code",
      "source": [
        "train_data.shape,test_data.shape"
      ],
      "metadata": {
        "colab": {
          "base_uri": "https://localhost:8080/"
        },
        "id": "5jCtx65X0ScG",
        "outputId": "08755cd9-78f3-4356-86be-4c736898d198"
      },
      "execution_count": 50,
      "outputs": [
        {
          "output_type": "execute_result",
          "data": {
            "text/plain": [
              "((6000, 180, 180, 3), (1500, 180, 180, 3))"
            ]
          },
          "metadata": {},
          "execution_count": 50
        }
      ]
    },
    {
      "cell_type": "markdown",
      "source": [
        "보통 대부분의 pretrained model(VGG, ResNet 등)의 경우, color image를 염두에 두고 학습을 진행하여 weight와 bias를 얻음.\n",
        "\n",
        "즉, input image shape에 반드시 (224, 224, 3)과 같이 3 channel을 포함해야한다.\n",
        "\n",
        "그래서 1 channel인 image를 pretrained model에 input으로 넣으려고하면 에러뜸"
      ],
      "metadata": {
        "id": "3Xyp2FD9Yxww"
      }
    },
    {
      "cell_type": "code",
      "source": [
        "# #224*224는 image사이즈가 너무 커서 ram이 터지기 때문에 좀 더 작은 사이즈로 넣어줌\n",
        "# #224*224 -> 180*180\n",
        "# resize = lambda x: tf.image.resize(x, (180, 180))\n",
        "# train_data = resize(train_data)\n",
        "# test_data = resize(test_data)\n",
        "# train_data.shape,test_data.shape"
      ],
      "metadata": {
        "id": "viCPeO_b8vxr",
        "colab": {
          "base_uri": "https://localhost:8080/"
        },
        "outputId": "b6431380-3a60-405b-f917-161e35f14007"
      },
      "execution_count": 35,
      "outputs": [
        {
          "output_type": "execute_result",
          "data": {
            "text/plain": [
              "(TensorShape([9031, 180, 180, 1]), TensorShape([2258, 180, 180, 1]))"
            ]
          },
          "metadata": {},
          "execution_count": 35
        }
      ]
    },
    {
      "cell_type": "markdown",
      "source": [
        "1차원 → 3차원 → resize 순으로 하면 data가 너무 커서 오류가 발생한다. "
      ],
      "metadata": {
        "id": "r6zHUnwU5F2U"
      }
    },
    {
      "cell_type": "markdown",
      "source": [
        "repeat이전 1차원에서 resize를 하고 3차원 순으로 하면 오류 해결됨.\n",
        "\n",
        "즉,1차원 → resize → 3차원 순으로 "
      ],
      "metadata": {
        "id": "Eig5YyzS5bK8"
      }
    },
    {
      "cell_type": "code",
      "source": [
        "# train_data = tf.repeat(train_data, 3, axis = 3) \n",
        "# train_data.shape"
      ],
      "metadata": {
        "id": "eVtYcteiCuw2"
      },
      "execution_count": null,
      "outputs": []
    },
    {
      "cell_type": "code",
      "source": [
        "# test_data = tf.repeat(test_data, 3, axis=3)\n",
        "# test_data.shape"
      ],
      "metadata": {
        "id": "Y_PjVBhmk9zJ"
      },
      "execution_count": null,
      "outputs": []
    },
    {
      "cell_type": "markdown",
      "metadata": {
        "id": "oB23q96M1GKR"
      },
      "source": [
        "## zero centering 과 Data int 화진행"
      ]
    },
    {
      "cell_type": "code",
      "execution_count": 51,
      "metadata": {
        "id": "rp6rfdLC1Bzs"
      },
      "outputs": [],
      "source": [
        "def preprocess(image,mean):\n",
        "    image -= mean\n",
        "    return np.array(image)"
      ]
    },
    {
      "cell_type": "code",
      "execution_count": 52,
      "metadata": {
        "id": "J4bCTztw1Jlv"
      },
      "outputs": [],
      "source": [
        "mean = np.mean(train_data, axis=0)"
      ]
    },
    {
      "cell_type": "code",
      "execution_count": 53,
      "metadata": {
        "id": "SFLORwRK-HXU"
      },
      "outputs": [],
      "source": [
        "#zero-centering\n",
        "train = preprocess(train_data,mean)\n",
        "test = preprocess(test_data,mean)"
      ]
    },
    {
      "cell_type": "code",
      "source": [
        "#data int\n",
        "train = train.astype(np.int32)\n",
        "test = test.astype(np.int32)"
      ],
      "metadata": {
        "id": "sqNsGU7bAVW1"
      },
      "execution_count": 54,
      "outputs": []
    },
    {
      "cell_type": "code",
      "execution_count": 55,
      "metadata": {
        "id": "9jxO3oxk3K1m"
      },
      "outputs": [],
      "source": [
        "train_label = train_label.astype(np.int32)\n",
        "test_label = test_label.astype(np.int32)"
      ]
    },
    {
      "cell_type": "markdown",
      "source": [
        "## pre-trained 된 ResNet50 model을 갖고 하위층 일부 재학습하는 transfer learning"
      ],
      "metadata": {
        "id": "BKTK8uv8kj4K"
      }
    },
    {
      "cell_type": "markdown",
      "source": [
        "### ver.1"
      ],
      "metadata": {
        "id": "WwgjWN9k-5a1"
      }
    },
    {
      "cell_type": "markdown",
      "metadata": {
        "id": "XxLgJiPU2llH"
      },
      "source": [
        "딥러닝 모델정의(하위층+분류층 학습) Dropout(0.5) 2번 사용한 모델\n",
        "- Conv layer 12층\n",
        "- 분류층"
      ]
    },
    {
      "cell_type": "code",
      "execution_count": 97,
      "metadata": {
        "id": "k-kpqjvT2aXq"
      },
      "outputs": [],
      "source": [
        "back_model = ResNet50(include_top=False, input_shape = (180,180 ,3), weights = 'imagenet')\n",
        "back_model.trainable = False\n",
        "\n",
        "for layer in back_model.layers[-12:]:\n",
        "  layer.trainable = True\n",
        "\n",
        "inputs = tf.keras.Input(shape=(180,180,3))\n",
        "\n",
        "x = back_model(inputs, training=False)\n",
        "\n",
        "# FC층 학습\n",
        "x = tf.keras.layers.Flatten()(x)\n",
        "x = tf.keras.layers.Dropout(0.5)(x)\n",
        "x = tf.keras.layers.Dense(64,activation='relu')(x)\n",
        "x = tf.keras.layers.Dropout(0.5)(x)\n",
        "outputs = tf.keras.layers.Dense(14,activation='softmax')(x)\n",
        "\n",
        "model = tf.keras.Model(inputs,outputs)\n",
        "model.compile(optimizer = tf.keras.optimizers.Adam( learning_rate= 0.0001),\n",
        "                loss = 'sparse_categorical_crossentropy',\n",
        "                metrics=['accuracy'])"
      ]
    },
    {
      "cell_type": "markdown",
      "metadata": {
        "id": "fMOJZ81G2siP"
      },
      "source": [
        "### 딥러닝 모델 훈련"
      ]
    },
    {
      "cell_type": "code",
      "execution_count": 70,
      "metadata": {
        "colab": {
          "base_uri": "https://localhost:8080/"
        },
        "id": "bX86ilL62nux",
        "outputId": "e09861de-8631-4023-e953-5551506b539e"
      },
      "outputs": [
        {
          "output_type": "stream",
          "name": "stdout",
          "text": [
            "Epoch 1/10\n",
            "47/47 [==============================] - 25s 434ms/step - loss: 2.7522 - accuracy: 0.1720 - val_loss: 1.6826 - val_accuracy: 0.4633\n",
            "Epoch 2/10\n",
            "47/47 [==============================] - 17s 358ms/step - loss: 1.8023 - accuracy: 0.3848 - val_loss: 1.0483 - val_accuracy: 0.6847\n",
            "Epoch 3/10\n",
            "47/47 [==============================] - 17s 369ms/step - loss: 1.4202 - accuracy: 0.5138 - val_loss: 0.7171 - val_accuracy: 0.8027\n",
            "Epoch 4/10\n",
            "47/47 [==============================] - 17s 363ms/step - loss: 1.1438 - accuracy: 0.6050 - val_loss: 0.6225 - val_accuracy: 0.8287\n",
            "Epoch 5/10\n",
            "47/47 [==============================] - 17s 355ms/step - loss: 0.9809 - accuracy: 0.6643 - val_loss: 0.5583 - val_accuracy: 0.8333\n",
            "Epoch 6/10\n",
            "47/47 [==============================] - 17s 356ms/step - loss: 0.8400 - accuracy: 0.7003 - val_loss: 0.5293 - val_accuracy: 0.8473\n",
            "Epoch 7/10\n",
            "47/47 [==============================] - 17s 360ms/step - loss: 0.7916 - accuracy: 0.7205 - val_loss: 0.5104 - val_accuracy: 0.8460\n",
            "Epoch 8/10\n",
            "47/47 [==============================] - 17s 361ms/step - loss: 0.6865 - accuracy: 0.7630 - val_loss: 0.4819 - val_accuracy: 0.8633\n",
            "Epoch 9/10\n",
            "47/47 [==============================] - 17s 359ms/step - loss: 0.6238 - accuracy: 0.7795 - val_loss: 0.4654 - val_accuracy: 0.8693\n",
            "Epoch 10/10\n",
            "47/47 [==============================] - 17s 357ms/step - loss: 0.5696 - accuracy: 0.7917 - val_loss: 0.4620 - val_accuracy: 0.8733\n"
          ]
        },
        {
          "output_type": "execute_result",
          "data": {
            "text/plain": [
              "<keras.callbacks.History at 0x7f4990105fd0>"
            ]
          },
          "metadata": {},
          "execution_count": 70
        }
      ],
      "source": [
        "model.fit(train,train_label, epochs=10,batch_size=128,validation_data=(test,test_label))"
      ]
    },
    {
      "cell_type": "markdown",
      "source": [
        "### 모델 저장"
      ],
      "metadata": {
        "id": "g8vBiQ-SV4Yb"
      }
    },
    {
      "cell_type": "code",
      "source": [
        "model.save('/content/drive/MyDrive/KDT/offline/mini_project3-image/github//temp/final_model.h5')"
      ],
      "metadata": {
        "id": "S2N1Qg0mVuhb"
      },
      "execution_count": 71,
      "outputs": []
    },
    {
      "cell_type": "code",
      "source": [
        "test_loss, test_acc = model.evaluate(test_data, test_label, verbose=2)\n",
        "print('\\n테스트 정확도:', test_acc)"
      ],
      "metadata": {
        "colab": {
          "base_uri": "https://localhost:8080/"
        },
        "id": "UNgACOsxBXyH",
        "outputId": "82b9b30d-e4b8-4039-b2f4-6ea99380e22e"
      },
      "execution_count": 72,
      "outputs": [
        {
          "output_type": "stream",
          "name": "stdout",
          "text": [
            "47/47 - 4s - loss: 0.4614 - accuracy: 0.8733 - 4s/epoch - 92ms/step\n",
            "\n",
            "테스트 정확도: 0.8733333349227905\n"
          ]
        }
      ]
    },
    {
      "cell_type": "markdown",
      "source": [
        "### fine-tuning"
      ],
      "metadata": {
        "id": "eh2DUwiMPh-k"
      }
    },
    {
      "cell_type": "code",
      "source": [
        "model = tf.keras.models.load_model('/content/drive/MyDrive/KDT/offline/mini_project3-image/github/temp/final_model.h5')"
      ],
      "metadata": {
        "colab": {
          "base_uri": "https://localhost:8080/"
        },
        "id": "9locbnSWWNFW",
        "outputId": "ebab9f96-f642-41a0-acea-22f35b61b787"
      },
      "execution_count": 98,
      "outputs": [
        {
          "output_type": "stream",
          "name": "stderr",
          "text": [
            "WARNING:tensorflow:Error in loading the saved optimizer state. As a result, your model is starting with a freshly initialized optimizer.\n"
          ]
        }
      ]
    },
    {
      "cell_type": "code",
      "source": [
        "## fine-tune\n",
        "model.trainable = True # bottlenect feature 학습진행한다\n",
        "\n",
        "model.compile(optimizer = tf.keras.optimizers.Adam( learning_rate= 0.0001),\n",
        "                loss = 'sparse_categorical_crossentropy',\n",
        "                metrics=['accuracy'])\n",
        "\n",
        "model.fit(train, train_label, epochs = 10, validation_data=(test, test_label), batch_size= 128)"
      ],
      "metadata": {
        "colab": {
          "base_uri": "https://localhost:8080/"
        },
        "id": "2QBHUMw_WTkB",
        "outputId": "05f59b27-9428-4b24-d3f6-fb4b804c7bef"
      },
      "execution_count": 99,
      "outputs": [
        {
          "output_type": "stream",
          "name": "stdout",
          "text": [
            "Epoch 1/10\n",
            "47/47 [==============================] - 54s 1s/step - loss: 0.9380 - accuracy: 0.7165 - val_loss: 0.5250 - val_accuracy: 0.8460\n",
            "Epoch 2/10\n",
            "47/47 [==============================] - 47s 997ms/step - loss: 0.5966 - accuracy: 0.8065 - val_loss: 0.4519 - val_accuracy: 0.8633\n",
            "Epoch 3/10\n",
            "47/47 [==============================] - 47s 1s/step - loss: 0.4189 - accuracy: 0.8680 - val_loss: 0.4803 - val_accuracy: 0.8640\n",
            "Epoch 4/10\n",
            "47/47 [==============================] - 47s 1s/step - loss: 0.3621 - accuracy: 0.8883 - val_loss: 0.4460 - val_accuracy: 0.8793\n",
            "Epoch 5/10\n",
            "47/47 [==============================] - 47s 1s/step - loss: 0.2970 - accuracy: 0.9098 - val_loss: 0.4993 - val_accuracy: 0.8713\n",
            "Epoch 6/10\n",
            "47/47 [==============================] - 47s 1s/step - loss: 0.2494 - accuracy: 0.9265 - val_loss: 0.6316 - val_accuracy: 0.8587\n",
            "Epoch 7/10\n",
            "47/47 [==============================] - 47s 1s/step - loss: 0.1899 - accuracy: 0.9428 - val_loss: 0.6023 - val_accuracy: 0.8773\n",
            "Epoch 8/10\n",
            "47/47 [==============================] - 47s 1s/step - loss: 0.1655 - accuracy: 0.9523 - val_loss: 0.8348 - val_accuracy: 0.8533\n",
            "Epoch 9/10\n",
            "47/47 [==============================] - 47s 1s/step - loss: 0.1635 - accuracy: 0.9535 - val_loss: 0.5812 - val_accuracy: 0.8813\n",
            "Epoch 10/10\n",
            "47/47 [==============================] - 47s 1s/step - loss: 0.1305 - accuracy: 0.9630 - val_loss: 0.5497 - val_accuracy: 0.8780\n"
          ]
        },
        {
          "output_type": "execute_result",
          "data": {
            "text/plain": [
              "<keras.callbacks.History at 0x7f429900b7d0>"
            ]
          },
          "metadata": {},
          "execution_count": 99
        }
      ]
    },
    {
      "cell_type": "code",
      "source": [
        "test_loss, test_acc = model.evaluate(test_data, test_label, verbose=2)\n",
        "print('\\n테스트 정확도:', test_acc)"
      ],
      "metadata": {
        "colab": {
          "base_uri": "https://localhost:8080/"
        },
        "id": "owquH4n1P5EG",
        "outputId": "a07a5343-060e-41a0-9162-54507d2b0ac2"
      },
      "execution_count": 100,
      "outputs": [
        {
          "output_type": "stream",
          "name": "stdout",
          "text": [
            "47/47 - 4s - loss: 0.5528 - accuracy: 0.8767 - 4s/epoch - 91ms/step\n",
            "\n",
            "테스트 정확도: 0.8766666650772095\n"
          ]
        }
      ]
    },
    {
      "cell_type": "markdown",
      "source": [
        "### ver.2"
      ],
      "metadata": {
        "id": "B_VcFyd1GlvG"
      }
    },
    {
      "cell_type": "markdown",
      "metadata": {
        "id": "LdIuK_UgGlvY"
      },
      "source": [
        "딥러닝 모델정의(하위층+분류층 학습) Dropout(0.5) 1번 사용한 모델\n",
        "- Conv layer 12층\n",
        "- 분류층"
      ]
    },
    {
      "cell_type": "code",
      "source": [
        "back_model = ResNet50(include_top=False, input_shape = (180,180 ,3), weights = 'imagenet')\n",
        "back_model.trainable = False\n",
        "\n",
        "for layer in back_model.layers[-12:]:\n",
        "  layer.trainable = True\n",
        "\n",
        "inputs = tf.keras.Input(shape=(180,180,3))\n",
        "\n",
        "x = back_model(inputs, training=False)\n",
        "\n",
        "# FC층 학습\n",
        "x = tf.keras.layers.Flatten()(x)\n",
        "x = tf.keras.layers.Dense(128,activation='relu')(x)\n",
        "x = tf.keras.layers.Dropout(0.5)(x)\n",
        "outputs = tf.keras.layers.Dense(14,activation='softmax')(x)\n",
        "\n",
        "model = tf.keras.Model(inputs,outputs)\n",
        "model.compile(optimizer = tf.keras.optimizers.Adam(learning_rate= 0.0001),\n",
        "                loss = 'sparse_categorical_crossentropy',\n",
        "                metrics=['accuracy'])"
      ],
      "metadata": {
        "id": "dGnGrJL4W8rF"
      },
      "execution_count": 88,
      "outputs": []
    },
    {
      "cell_type": "code",
      "source": [
        "model.summary()"
      ],
      "metadata": {
        "colab": {
          "base_uri": "https://localhost:8080/"
        },
        "id": "1k_26bZzGx69",
        "outputId": "b0134d87-784c-441a-f9e1-b9ef6893ea9d"
      },
      "execution_count": 75,
      "outputs": [
        {
          "output_type": "stream",
          "name": "stdout",
          "text": [
            "Model: \"model_7\"\n",
            "_________________________________________________________________\n",
            " Layer (type)                Output Shape              Param #   \n",
            "=================================================================\n",
            " input_16 (InputLayer)       [(None, 180, 180, 3)]     0         \n",
            "                                                                 \n",
            " resnet50 (Functional)       (None, 6, 6, 2048)        23587712  \n",
            "                                                                 \n",
            " flatten_7 (Flatten)         (None, 73728)             0         \n",
            "                                                                 \n",
            " dense_18 (Dense)            (None, 128)               9437312   \n",
            "                                                                 \n",
            " dropout_9 (Dropout)         (None, 128)               0         \n",
            "                                                                 \n",
            " dense_19 (Dense)            (None, 14)                1806      \n",
            "                                                                 \n",
            "=================================================================\n",
            "Total params: 33,026,830\n",
            "Trainable params: 9,439,118\n",
            "Non-trainable params: 23,587,712\n",
            "_________________________________________________________________\n"
          ]
        }
      ]
    },
    {
      "cell_type": "markdown",
      "metadata": {
        "id": "cavXO_IWH5-W"
      },
      "source": [
        "### 딥러닝 모델 훈련"
      ]
    },
    {
      "cell_type": "code",
      "source": [
        "model.fit(train,train_label, epochs=10,batch_size=128,validation_data=(test,test_label))"
      ],
      "metadata": {
        "colab": {
          "base_uri": "https://localhost:8080/"
        },
        "id": "nYI3VQYzZBvU",
        "outputId": "e1d1b354-8821-4bca-fed1-d883efcc3b26"
      },
      "execution_count": 76,
      "outputs": [
        {
          "output_type": "stream",
          "name": "stdout",
          "text": [
            "Epoch 1/10\n",
            "47/47 [==============================] - 20s 369ms/step - loss: 1.6366 - accuracy: 0.5173 - val_loss: 0.5559 - val_accuracy: 0.8367\n",
            "Epoch 2/10\n",
            "47/47 [==============================] - 17s 361ms/step - loss: 0.6432 - accuracy: 0.7920 - val_loss: 0.4800 - val_accuracy: 0.8500\n",
            "Epoch 3/10\n",
            "47/47 [==============================] - 17s 371ms/step - loss: 0.4278 - accuracy: 0.8547 - val_loss: 0.4418 - val_accuracy: 0.8727\n",
            "Epoch 4/10\n",
            "47/47 [==============================] - 17s 358ms/step - loss: 0.3010 - accuracy: 0.8985 - val_loss: 0.4408 - val_accuracy: 0.8740\n",
            "Epoch 5/10\n",
            "47/47 [==============================] - 17s 354ms/step - loss: 0.2271 - accuracy: 0.9218 - val_loss: 0.4504 - val_accuracy: 0.8820\n",
            "Epoch 6/10\n",
            "47/47 [==============================] - 17s 358ms/step - loss: 0.1867 - accuracy: 0.9347 - val_loss: 0.4638 - val_accuracy: 0.8873\n",
            "Epoch 7/10\n",
            "47/47 [==============================] - 17s 363ms/step - loss: 0.1601 - accuracy: 0.9470 - val_loss: 0.4529 - val_accuracy: 0.8847\n",
            "Epoch 8/10\n",
            "47/47 [==============================] - 17s 362ms/step - loss: 0.1268 - accuracy: 0.9553 - val_loss: 0.4691 - val_accuracy: 0.8860\n",
            "Epoch 9/10\n",
            "47/47 [==============================] - 17s 358ms/step - loss: 0.1111 - accuracy: 0.9635 - val_loss: 0.4904 - val_accuracy: 0.8793\n",
            "Epoch 10/10\n",
            "47/47 [==============================] - 17s 357ms/step - loss: 0.1085 - accuracy: 0.9642 - val_loss: 0.4774 - val_accuracy: 0.8893\n"
          ]
        },
        {
          "output_type": "execute_result",
          "data": {
            "text/plain": [
              "<keras.callbacks.History at 0x7f430c9059d0>"
            ]
          },
          "metadata": {},
          "execution_count": 76
        }
      ]
    },
    {
      "cell_type": "markdown",
      "source": [
        "### 모델 저장"
      ],
      "metadata": {
        "id": "63FdwBKSHMmK"
      }
    },
    {
      "cell_type": "code",
      "source": [
        "model.save('/content/drive/MyDrive/KDT/offline/mini_project3-image/github/temp/final_model(V2).h5')"
      ],
      "metadata": {
        "id": "EqTakfy1HMmK"
      },
      "execution_count": 77,
      "outputs": []
    },
    {
      "cell_type": "code",
      "source": [
        "test_loss, test_acc = model.evaluate(test_data, test_label, verbose=2)\n",
        "print('\\n테스트 정확도:', test_acc)"
      ],
      "metadata": {
        "colab": {
          "base_uri": "https://localhost:8080/"
        },
        "outputId": "bc9d4196-1fe2-4df7-83f4-9b5d59d18f25",
        "id": "DprR8NqWHMmK"
      },
      "execution_count": 78,
      "outputs": [
        {
          "output_type": "stream",
          "name": "stdout",
          "text": [
            "47/47 - 4s - loss: 0.4775 - accuracy: 0.8907 - 4s/epoch - 91ms/step\n",
            "\n",
            "테스트 정확도: 0.890666663646698\n"
          ]
        }
      ]
    },
    {
      "cell_type": "markdown",
      "source": [
        "### fine-tuning"
      ],
      "metadata": {
        "id": "5A_-kYrdQQSj"
      }
    },
    {
      "cell_type": "code",
      "source": [
        "model = tf.keras.models.load_model('/content/drive/MyDrive/KDT/offline/mini_project3-image/github/temp/final_model(V2).h5')"
      ],
      "metadata": {
        "colab": {
          "base_uri": "https://localhost:8080/"
        },
        "outputId": "0e342896-52f4-4c93-d43a-6aa5c4e76ea8",
        "id": "G4zh59bvQQSk"
      },
      "execution_count": 89,
      "outputs": [
        {
          "output_type": "stream",
          "name": "stderr",
          "text": [
            "WARNING:tensorflow:Error in loading the saved optimizer state. As a result, your model is starting with a freshly initialized optimizer.\n"
          ]
        }
      ]
    },
    {
      "cell_type": "code",
      "source": [
        "## fine-tune\n",
        "model.trainable = True # bottlenect feature 학습진행한다\n",
        "\n",
        "model.compile(optimizer = tf.keras.optimizers.Adam( learning_rate= 0.0001),\n",
        "                loss = 'sparse_categorical_crossentropy',\n",
        "                metrics=['accuracy'])\n",
        "\n",
        "model.fit(train, train_label, epochs = 10, validation_data=(test, test_label), batch_size= 128)"
      ],
      "metadata": {
        "colab": {
          "base_uri": "https://localhost:8080/"
        },
        "outputId": "5014209f-bbea-4113-e353-3cb4f3874d2c",
        "id": "nDmpyfJHQQSk"
      },
      "execution_count": 90,
      "outputs": [
        {
          "output_type": "stream",
          "name": "stdout",
          "text": [
            "Epoch 1/10\n",
            "47/47 [==============================] - 54s 1s/step - loss: 0.4357 - accuracy: 0.8657 - val_loss: 0.4669 - val_accuracy: 0.8720\n",
            "Epoch 2/10\n",
            "47/47 [==============================] - 47s 1000ms/step - loss: 0.2173 - accuracy: 0.9287 - val_loss: 0.4590 - val_accuracy: 0.8820\n",
            "Epoch 3/10\n",
            "47/47 [==============================] - 48s 1s/step - loss: 0.1370 - accuracy: 0.9573 - val_loss: 0.5162 - val_accuracy: 0.8700\n",
            "Epoch 4/10\n",
            "47/47 [==============================] - 47s 1s/step - loss: 0.1390 - accuracy: 0.9555 - val_loss: 0.4740 - val_accuracy: 0.8713\n",
            "Epoch 5/10\n",
            "47/47 [==============================] - 47s 1s/step - loss: 0.0968 - accuracy: 0.9690 - val_loss: 0.4475 - val_accuracy: 0.8833\n",
            "Epoch 6/10\n",
            "47/47 [==============================] - 47s 1s/step - loss: 0.0935 - accuracy: 0.9723 - val_loss: 0.3933 - val_accuracy: 0.8893\n",
            "Epoch 7/10\n",
            "47/47 [==============================] - 47s 1s/step - loss: 0.0849 - accuracy: 0.9752 - val_loss: 0.4600 - val_accuracy: 0.8867\n",
            "Epoch 8/10\n",
            "47/47 [==============================] - 47s 1s/step - loss: 0.0666 - accuracy: 0.9768 - val_loss: 0.5093 - val_accuracy: 0.8727\n",
            "Epoch 9/10\n",
            "47/47 [==============================] - 47s 1s/step - loss: 0.0670 - accuracy: 0.9775 - val_loss: 0.4764 - val_accuracy: 0.8847\n",
            "Epoch 10/10\n",
            "47/47 [==============================] - 47s 1s/step - loss: 0.1219 - accuracy: 0.9698 - val_loss: 0.4506 - val_accuracy: 0.8880\n"
          ]
        },
        {
          "output_type": "execute_result",
          "data": {
            "text/plain": [
              "<keras.callbacks.History at 0x7f430a4b8e10>"
            ]
          },
          "metadata": {},
          "execution_count": 90
        }
      ]
    },
    {
      "cell_type": "code",
      "source": [
        "test_loss, test_acc = model.evaluate(test_data, test_label, verbose=2)\n",
        "print('\\n테스트 정확도:', test_acc)"
      ],
      "metadata": {
        "colab": {
          "base_uri": "https://localhost:8080/"
        },
        "id": "oTQWjLHpQQSk",
        "outputId": "46eb270c-80de-438a-c3c5-f2af90add794"
      },
      "execution_count": 91,
      "outputs": [
        {
          "output_type": "stream",
          "name": "stdout",
          "text": [
            "47/47 - 4s - loss: 0.4497 - accuracy: 0.8887 - 4s/epoch - 93ms/step\n",
            "\n",
            "테스트 정확도: 0.8886666893959045\n"
          ]
        }
      ]
    },
    {
      "cell_type": "markdown",
      "source": [
        "### ver.3"
      ],
      "metadata": {
        "id": "xkDWjeEkIKiK"
      }
    },
    {
      "cell_type": "markdown",
      "metadata": {
        "id": "ORvuhNtOIKiK"
      },
      "source": [
        "딥러닝 모델정의(하위층+분류층 학습) Dropout(0.5) 1번 사용한 모델\n",
        "- Conv layer 30층\n",
        "- 분류층\n"
      ]
    },
    {
      "cell_type": "code",
      "source": [
        "back_model = ResNet50(include_top=False, input_shape = (180,180 ,3), weights = 'imagenet')\n",
        "back_model.trainable = False\n",
        "\n",
        "for layer in back_model.layers[-30:]:\n",
        "  layer.trainable = True\n",
        "\n",
        "inputs = tf.keras.Input(shape=(180,180,3))\n",
        "\n",
        "x = back_model(inputs, training=False)\n",
        "\n",
        "# FC층 학습\n",
        "x = tf.keras.layers.Flatten()(x)\n",
        "x = tf.keras.layers.Dense(256,activation='relu')(x)\n",
        "x = tf.keras.layers.Dropout(0.5)(x)\n",
        "outputs = tf.keras.layers.Dense(14,activation='softmax')(x)\n",
        "\n",
        "model = tf.keras.Model(inputs,outputs)\n",
        "model.compile(optimizer = tf.keras.optimizers.Adam(learning_rate= 0.0001),\n",
        "                loss = 'sparse_categorical_crossentropy',\n",
        "                metrics=['accuracy'])"
      ],
      "metadata": {
        "id": "_DATqTstIKiK"
      },
      "execution_count": 101,
      "outputs": []
    },
    {
      "cell_type": "code",
      "source": [
        "model.summary()"
      ],
      "metadata": {
        "colab": {
          "base_uri": "https://localhost:8080/"
        },
        "outputId": "a8cd55a2-8d8e-4857-d6f7-c57f6e06579e",
        "id": "GX8U7qJOIKiL"
      },
      "execution_count": 93,
      "outputs": [
        {
          "output_type": "stream",
          "name": "stdout",
          "text": [
            "Model: \"model_11\"\n",
            "_________________________________________________________________\n",
            " Layer (type)                Output Shape              Param #   \n",
            "=================================================================\n",
            " input_24 (InputLayer)       [(None, 180, 180, 3)]     0         \n",
            "                                                                 \n",
            " resnet50 (Functional)       (None, 6, 6, 2048)        23587712  \n",
            "                                                                 \n",
            " flatten_11 (Flatten)        (None, 73728)             0         \n",
            "                                                                 \n",
            " dense_26 (Dense)            (None, 256)               18874624  \n",
            "                                                                 \n",
            " dropout_14 (Dropout)        (None, 256)               0         \n",
            "                                                                 \n",
            " dense_27 (Dense)            (None, 14)                3598      \n",
            "                                                                 \n",
            "=================================================================\n",
            "Total params: 42,465,934\n",
            "Trainable params: 18,878,222\n",
            "Non-trainable params: 23,587,712\n",
            "_________________________________________________________________\n"
          ]
        }
      ]
    },
    {
      "cell_type": "markdown",
      "metadata": {
        "id": "0pgfkn6ZIKiL"
      },
      "source": [
        "### 딥러닝 모델 훈련"
      ]
    },
    {
      "cell_type": "code",
      "source": [
        "model.fit(train,train_label, epochs=15,batch_size=128,validation_data=(test,test_label))"
      ],
      "metadata": {
        "colab": {
          "base_uri": "https://localhost:8080/"
        },
        "outputId": "9bb69141-5ec5-4346-9581-8adfd89b9a63",
        "id": "EICKHUyFIKiL"
      },
      "execution_count": 81,
      "outputs": [
        {
          "output_type": "stream",
          "name": "stdout",
          "text": [
            "Epoch 1/15\n",
            "47/47 [==============================] - 21s 380ms/step - loss: 1.3502 - accuracy: 0.6375 - val_loss: 0.4920 - val_accuracy: 0.8433\n",
            "Epoch 2/15\n",
            "47/47 [==============================] - 17s 371ms/step - loss: 0.4152 - accuracy: 0.8653 - val_loss: 0.4216 - val_accuracy: 0.8660\n",
            "Epoch 3/15\n",
            "47/47 [==============================] - 17s 371ms/step - loss: 0.2385 - accuracy: 0.9217 - val_loss: 0.4247 - val_accuracy: 0.8707\n",
            "Epoch 4/15\n",
            "47/47 [==============================] - 17s 357ms/step - loss: 0.1556 - accuracy: 0.9488 - val_loss: 0.4723 - val_accuracy: 0.8667\n",
            "Epoch 5/15\n",
            "47/47 [==============================] - 17s 357ms/step - loss: 0.1233 - accuracy: 0.9593 - val_loss: 0.4435 - val_accuracy: 0.8800\n",
            "Epoch 6/15\n",
            "47/47 [==============================] - 17s 363ms/step - loss: 0.0976 - accuracy: 0.9647 - val_loss: 0.4546 - val_accuracy: 0.8793\n",
            "Epoch 7/15\n",
            "47/47 [==============================] - 17s 365ms/step - loss: 0.0712 - accuracy: 0.9767 - val_loss: 0.5050 - val_accuracy: 0.8813\n",
            "Epoch 8/15\n",
            "47/47 [==============================] - 17s 362ms/step - loss: 0.0657 - accuracy: 0.9793 - val_loss: 0.5010 - val_accuracy: 0.8793\n",
            "Epoch 9/15\n",
            "47/47 [==============================] - 17s 359ms/step - loss: 0.0530 - accuracy: 0.9830 - val_loss: 0.5008 - val_accuracy: 0.8820\n",
            "Epoch 10/15\n",
            "47/47 [==============================] - 17s 361ms/step - loss: 0.0455 - accuracy: 0.9835 - val_loss: 0.5120 - val_accuracy: 0.8827\n",
            "Epoch 11/15\n",
            "47/47 [==============================] - 17s 362ms/step - loss: 0.0426 - accuracy: 0.9860 - val_loss: 0.5299 - val_accuracy: 0.8907\n",
            "Epoch 12/15\n",
            "47/47 [==============================] - 17s 362ms/step - loss: 0.0355 - accuracy: 0.9903 - val_loss: 0.5129 - val_accuracy: 0.8893\n",
            "Epoch 13/15\n",
            "47/47 [==============================] - 17s 362ms/step - loss: 0.0381 - accuracy: 0.9890 - val_loss: 0.5099 - val_accuracy: 0.8787\n",
            "Epoch 14/15\n",
            "47/47 [==============================] - 17s 362ms/step - loss: 0.0392 - accuracy: 0.9873 - val_loss: 0.5141 - val_accuracy: 0.8913\n",
            "Epoch 15/15\n",
            "47/47 [==============================] - 17s 363ms/step - loss: 0.0280 - accuracy: 0.9910 - val_loss: 0.5602 - val_accuracy: 0.8840\n"
          ]
        },
        {
          "output_type": "execute_result",
          "data": {
            "text/plain": [
              "<keras.callbacks.History at 0x7f4555eff9d0>"
            ]
          },
          "metadata": {},
          "execution_count": 81
        }
      ]
    },
    {
      "cell_type": "markdown",
      "source": [
        "### 모델 저장"
      ],
      "metadata": {
        "id": "y-cslCF-IKiL"
      }
    },
    {
      "cell_type": "code",
      "source": [
        "model.save('/content/drive/MyDrive/KDT/offline/mini_project3-image/github/temp/final_model(V3).h5')"
      ],
      "metadata": {
        "id": "g5u2QFW3IKiL"
      },
      "execution_count": 82,
      "outputs": []
    },
    {
      "cell_type": "code",
      "source": [
        "test_loss, test_acc = model.evaluate(test_data, test_label, verbose=2)\n",
        "print('\\n테스트 정확도:', test_acc)"
      ],
      "metadata": {
        "colab": {
          "base_uri": "https://localhost:8080/"
        },
        "outputId": "5cb56fd1-3b26-4ff8-92d4-c4bd6e1e4d62",
        "id": "0e31SIsfIKiL"
      },
      "execution_count": 83,
      "outputs": [
        {
          "output_type": "stream",
          "name": "stdout",
          "text": [
            "47/47 - 4s - loss: 0.5610 - accuracy: 0.8827 - 4s/epoch - 92ms/step\n",
            "\n",
            "테스트 정확도: 0.8826666474342346\n"
          ]
        }
      ]
    },
    {
      "cell_type": "markdown",
      "source": [
        "### fine-tuning"
      ],
      "metadata": {
        "id": "qcCQZJASQpw5"
      }
    },
    {
      "cell_type": "code",
      "source": [
        "model = tf.keras.models.load_model('/content/drive/MyDrive/KDT/offline/mini_project3-image/github/temp/final_model(V3).h5')"
      ],
      "metadata": {
        "colab": {
          "base_uri": "https://localhost:8080/"
        },
        "outputId": "0cf67fb3-21bc-4c5b-c31a-d266458492d9",
        "id": "qQmNSnN-Qpw5"
      },
      "execution_count": 102,
      "outputs": [
        {
          "output_type": "stream",
          "name": "stderr",
          "text": [
            "WARNING:tensorflow:Error in loading the saved optimizer state. As a result, your model is starting with a freshly initialized optimizer.\n"
          ]
        }
      ]
    },
    {
      "cell_type": "code",
      "source": [
        "## fine-tune\n",
        "model.trainable = True # bottlenect feature 학습진행한다\n",
        "\n",
        "model.compile(optimizer = tf.keras.optimizers.Adam( learning_rate= 0.0001),\n",
        "                loss = 'sparse_categorical_crossentropy',\n",
        "                metrics=['accuracy'])\n",
        "\n",
        "model.fit(train, train_label, epochs = 10, validation_data=(test, test_label), batch_size= 128)"
      ],
      "metadata": {
        "colab": {
          "base_uri": "https://localhost:8080/"
        },
        "outputId": "0cb14955-6faa-4134-e624-9085fd3e8acf",
        "id": "EOqjdEt5Qpw6"
      },
      "execution_count": 103,
      "outputs": [
        {
          "output_type": "stream",
          "name": "stdout",
          "text": [
            "Epoch 1/10\n",
            "47/47 [==============================] - 54s 1s/step - loss: 0.2700 - accuracy: 0.9193 - val_loss: 0.5071 - val_accuracy: 0.8673\n",
            "Epoch 2/10\n",
            "47/47 [==============================] - 47s 1s/step - loss: 0.1217 - accuracy: 0.9627 - val_loss: 0.6203 - val_accuracy: 0.8413\n",
            "Epoch 3/10\n",
            "47/47 [==============================] - 48s 1s/step - loss: 0.1232 - accuracy: 0.9638 - val_loss: 0.4278 - val_accuracy: 0.8873\n",
            "Epoch 4/10\n",
            "47/47 [==============================] - 47s 1s/step - loss: 0.0761 - accuracy: 0.9728 - val_loss: 0.4827 - val_accuracy: 0.8793\n",
            "Epoch 5/10\n",
            "47/47 [==============================] - 47s 1s/step - loss: 0.0638 - accuracy: 0.9797 - val_loss: 0.4731 - val_accuracy: 0.8787\n",
            "Epoch 6/10\n",
            "47/47 [==============================] - 47s 1s/step - loss: 0.0727 - accuracy: 0.9780 - val_loss: 0.4458 - val_accuracy: 0.8753\n",
            "Epoch 7/10\n",
            "47/47 [==============================] - 47s 1s/step - loss: 0.0772 - accuracy: 0.9780 - val_loss: 0.4625 - val_accuracy: 0.8813\n",
            "Epoch 8/10\n",
            "47/47 [==============================] - 47s 1s/step - loss: 0.0346 - accuracy: 0.9897 - val_loss: 0.5175 - val_accuracy: 0.8900\n",
            "Epoch 9/10\n",
            "47/47 [==============================] - 47s 1s/step - loss: 0.0444 - accuracy: 0.9858 - val_loss: 0.7279 - val_accuracy: 0.8300\n",
            "Epoch 10/10\n",
            "47/47 [==============================] - 47s 1s/step - loss: 0.0318 - accuracy: 0.9888 - val_loss: 0.5279 - val_accuracy: 0.8887\n"
          ]
        },
        {
          "output_type": "execute_result",
          "data": {
            "text/plain": [
              "<keras.callbacks.History at 0x7f428f36fcd0>"
            ]
          },
          "metadata": {},
          "execution_count": 103
        }
      ]
    },
    {
      "cell_type": "code",
      "source": [
        "test_loss, test_acc = model.evaluate(test_data, test_label, verbose=2)\n",
        "print('\\n테스트 정확도:', test_acc)"
      ],
      "metadata": {
        "colab": {
          "base_uri": "https://localhost:8080/"
        },
        "id": "4i1BoTXdQpw6",
        "outputId": "c73ea60e-2f6c-48dd-876b-aebad701c305"
      },
      "execution_count": 104,
      "outputs": [
        {
          "output_type": "stream",
          "name": "stdout",
          "text": [
            "47/47 - 4s - loss: 0.5280 - accuracy: 0.8880 - 4s/epoch - 92ms/step\n",
            "\n",
            "테스트 정확도: 0.8880000114440918\n"
          ]
        }
      ]
    },
    {
      "cell_type": "code",
      "source": [],
      "metadata": {
        "id": "22jo8OYSNk3Q"
      },
      "execution_count": null,
      "outputs": []
    }
  ]
}